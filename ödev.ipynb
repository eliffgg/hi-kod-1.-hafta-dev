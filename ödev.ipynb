{
 "cells": [
  {
   "cell_type": "code",
   "execution_count": 1,
   "id": "078c5848",
   "metadata": {},
   "outputs": [
    {
     "data": {
      "text/plain": [
       "False"
      ]
     },
     "execution_count": 1,
     "metadata": {},
     "output_type": "execute_result"
    }
   ],
   "source": [
    "x = 0\n",
    "y = 3.4\n",
    "z = \"12\"\n",
    "t = 13<90\n",
    "\n",
    "bool(x)"
   ]
  },
  {
   "cell_type": "code",
   "execution_count": 2,
   "id": "726f8aed",
   "metadata": {},
   "outputs": [
    {
     "data": {
      "text/plain": [
       "'3.4'"
      ]
     },
     "execution_count": 2,
     "metadata": {},
     "output_type": "execute_result"
    }
   ],
   "source": [
    "str(y)"
   ]
  },
  {
   "cell_type": "code",
   "execution_count": 3,
   "id": "d3bf375b",
   "metadata": {},
   "outputs": [
    {
     "data": {
      "text/plain": [
       "3"
      ]
     },
     "execution_count": 3,
     "metadata": {},
     "output_type": "execute_result"
    }
   ],
   "source": [
    "int(y)"
   ]
  },
  {
   "cell_type": "code",
   "execution_count": 4,
   "id": "94af5776",
   "metadata": {},
   "outputs": [
    {
     "data": {
      "text/plain": [
       "1.0"
      ]
     },
     "execution_count": 4,
     "metadata": {},
     "output_type": "execute_result"
    }
   ],
   "source": [
    "float(t)"
   ]
  },
  {
   "cell_type": "code",
   "execution_count": 5,
   "id": "f3cef47c",
   "metadata": {},
   "outputs": [],
   "source": [
    "zehra = 21\n",
    "eylul = 22\n",
    "meltem = 20"
   ]
  },
  {
   "cell_type": "code",
   "execution_count": 6,
   "id": "e096698c",
   "metadata": {},
   "outputs": [
    {
     "data": {
      "text/plain": [
       "False"
      ]
     },
     "execution_count": 6,
     "metadata": {},
     "output_type": "execute_result"
    }
   ],
   "source": [
    "meltem == eylul "
   ]
  },
  {
   "cell_type": "code",
   "execution_count": 7,
   "id": "527cd831",
   "metadata": {},
   "outputs": [
    {
     "data": {
      "text/plain": [
       "False"
      ]
     },
     "execution_count": 7,
     "metadata": {},
     "output_type": "execute_result"
    }
   ],
   "source": [
    "meltem <= zehra and eylul < meltem"
   ]
  },
  {
   "cell_type": "code",
   "execution_count": 8,
   "id": "5f87b7a2",
   "metadata": {},
   "outputs": [
    {
     "data": {
      "text/plain": [
       "True"
      ]
     },
     "execution_count": 8,
     "metadata": {},
     "output_type": "execute_result"
    }
   ],
   "source": [
    "eylul != meltem or eylul < zehra "
   ]
  },
  {
   "cell_type": "code",
   "execution_count": 18,
   "id": "5dbfa13a",
   "metadata": {},
   "outputs": [],
   "source": [
    "a = 13\n",
    "b = 90"
   ]
  },
  {
   "cell_type": "code",
   "execution_count": 19,
   "id": "635a797a",
   "metadata": {},
   "outputs": [
    {
     "data": {
      "text/plain": [
       "103"
      ]
     },
     "execution_count": 19,
     "metadata": {},
     "output_type": "execute_result"
    }
   ],
   "source": [
    "a+b"
   ]
  },
  {
   "cell_type": "code",
   "execution_count": 20,
   "id": "5c600e9e",
   "metadata": {},
   "outputs": [
    {
     "data": {
      "text/plain": [
       "1170"
      ]
     },
     "execution_count": 20,
     "metadata": {},
     "output_type": "execute_result"
    }
   ],
   "source": [
    "a*b"
   ]
  },
  {
   "cell_type": "code",
   "execution_count": 23,
   "id": "1d19d97e",
   "metadata": {},
   "outputs": [
    {
     "data": {
      "text/plain": [
       "6.923076923076923"
      ]
     },
     "execution_count": 23,
     "metadata": {},
     "output_type": "execute_result"
    }
   ],
   "source": [
    "b/a"
   ]
  },
  {
   "cell_type": "code",
   "execution_count": 24,
   "id": "23c21e0f",
   "metadata": {},
   "outputs": [
    {
     "data": {
      "text/plain": [
       "6"
      ]
     },
     "execution_count": 24,
     "metadata": {},
     "output_type": "execute_result"
    }
   ],
   "source": [
    "b//a"
   ]
  },
  {
   "cell_type": "code",
   "execution_count": 25,
   "id": "b8986075",
   "metadata": {},
   "outputs": [
    {
     "data": {
      "text/plain": [
       "77"
      ]
     },
     "execution_count": 25,
     "metadata": {},
     "output_type": "execute_result"
    }
   ],
   "source": [
    "b-a"
   ]
  },
  {
   "cell_type": "code",
   "execution_count": 26,
   "id": "a3364463",
   "metadata": {},
   "outputs": [
    {
     "name": "stdout",
     "output_type": "stream",
     "text": [
      "isim:elif\n"
     ]
    },
    {
     "data": {
      "text/plain": [
       "'elif'"
      ]
     },
     "execution_count": 26,
     "metadata": {},
     "output_type": "execute_result"
    }
   ],
   "source": [
    "input(\"isim:\")"
   ]
  },
  {
   "cell_type": "code",
   "execution_count": 27,
   "id": "d677d549",
   "metadata": {},
   "outputs": [
    {
     "name": "stdout",
     "output_type": "stream",
     "text": [
      "yaş:20\n"
     ]
    },
    {
     "data": {
      "text/plain": [
       "'20'"
      ]
     },
     "execution_count": 27,
     "metadata": {},
     "output_type": "execute_result"
    }
   ],
   "source": [
    "input(\"yaş:\")"
   ]
  },
  {
   "cell_type": "code",
   "execution_count": 28,
   "id": "7c01b1ea",
   "metadata": {},
   "outputs": [
    {
     "name": "stdout",
     "output_type": "stream",
     "text": [
      "şehir:istanbul\n"
     ]
    },
    {
     "data": {
      "text/plain": [
       "'istanbul'"
      ]
     },
     "execution_count": 28,
     "metadata": {},
     "output_type": "execute_result"
    }
   ],
   "source": [
    "input(\"şehir:\")"
   ]
  },
  {
   "cell_type": "code",
   "execution_count": 29,
   "id": "9249ba71",
   "metadata": {},
   "outputs": [
    {
     "name": "stdout",
     "output_type": "stream",
     "text": [
      "meslek:öğrenci\n"
     ]
    },
    {
     "data": {
      "text/plain": [
       "'öğrenci'"
      ]
     },
     "execution_count": 29,
     "metadata": {},
     "output_type": "execute_result"
    }
   ],
   "source": [
    "input(\"meslek:\")"
   ]
  },
  {
   "cell_type": "code",
   "execution_count": 30,
   "id": "965fc932",
   "metadata": {},
   "outputs": [
    {
     "data": {
      "text/plain": [
       "'Hi-Kod Veri Bilimi Atölyesi'"
      ]
     },
     "execution_count": 30,
     "metadata": {},
     "output_type": "execute_result"
    }
   ],
   "source": [
    "atolye = \"Hi-Kod Veri Bilimi Atölyesi\"\n",
    "atolye"
   ]
  },
  {
   "cell_type": "code",
   "execution_count": 31,
   "id": "57329826",
   "metadata": {},
   "outputs": [
    {
     "data": {
      "text/plain": [
       "['Hi-Kod', 'Veri', 'Bilimi', 'Atölyesi']"
      ]
     },
     "execution_count": 31,
     "metadata": {},
     "output_type": "execute_result"
    }
   ],
   "source": [
    "atolye.split(\" \")"
   ]
  },
  {
   "cell_type": "code",
   "execution_count": 32,
   "id": "2746f567",
   "metadata": {},
   "outputs": [
    {
     "data": {
      "text/plain": [
       "'HI-KOD VERI BILIMI ATÖLYESI'"
      ]
     },
     "execution_count": 32,
     "metadata": {},
     "output_type": "execute_result"
    }
   ],
   "source": [
    "str.upper(atolye)"
   ]
  },
  {
   "cell_type": "code",
   "execution_count": 33,
   "id": "9d53ef8d",
   "metadata": {},
   "outputs": [
    {
     "data": {
      "text/plain": [
       "'hi-kod veri bilimi atölyesi'"
      ]
     },
     "execution_count": 33,
     "metadata": {},
     "output_type": "execute_result"
    }
   ],
   "source": [
    "str.lower(atolye)"
   ]
  },
  {
   "cell_type": "code",
   "execution_count": 38,
   "id": "1807d84e",
   "metadata": {},
   "outputs": [],
   "source": [
    "sayilar = \"0123456789\""
   ]
  },
  {
   "cell_type": "code",
   "execution_count": 39,
   "id": "367b5804",
   "metadata": {},
   "outputs": [
    {
     "data": {
      "text/plain": [
       "'02468'"
      ]
     },
     "execution_count": 39,
     "metadata": {},
     "output_type": "execute_result"
    }
   ],
   "source": [
    "sayilar[::2]"
   ]
  },
  {
   "cell_type": "code",
   "execution_count": 40,
   "id": "66e84c95",
   "metadata": {},
   "outputs": [
    {
     "data": {
      "text/plain": [
       "'13579'"
      ]
     },
     "execution_count": 40,
     "metadata": {},
     "output_type": "execute_result"
    }
   ],
   "source": [
    "sayilar[1::2]"
   ]
  }
 ],
 "metadata": {
  "kernelspec": {
   "display_name": "Python 3 (ipykernel)",
   "language": "python",
   "name": "python3"
  },
  "language_info": {
   "codemirror_mode": {
    "name": "ipython",
    "version": 3
   },
   "file_extension": ".py",
   "mimetype": "text/x-python",
   "name": "python",
   "nbconvert_exporter": "python",
   "pygments_lexer": "ipython3",
   "version": "3.11.7"
  }
 },
 "nbformat": 4,
 "nbformat_minor": 5
}
